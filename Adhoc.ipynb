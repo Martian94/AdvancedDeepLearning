{
  "nbformat": 4,
  "nbformat_minor": 0,
  "metadata": {
    "colab": {
      "provenance": [],
      "authorship_tag": "ABX9TyOlwMyZ6dUcaTtTkA7JabI+",
      "include_colab_link": true
    },
    "kernelspec": {
      "name": "python3",
      "display_name": "Python 3"
    },
    "language_info": {
      "name": "python"
    }
  },
  "cells": [
    {
      "cell_type": "markdown",
      "metadata": {
        "id": "view-in-github",
        "colab_type": "text"
      },
      "source": [
        "<a href=\"https://colab.research.google.com/github/Martian94/AdvancedDeepLearning/blob/main/Adhoc.ipynb\" target=\"_parent\"><img src=\"https://colab.research.google.com/assets/colab-badge.svg\" alt=\"Open In Colab\"/></a>"
      ]
    },
    {
      "cell_type": "code",
      "execution_count": 17,
      "metadata": {
        "colab": {
          "base_uri": "https://localhost:8080/"
        },
        "id": "pcWz3_ZE1CZL",
        "outputId": "bf88ae85-4388-46b7-e9ff-012d9b8835c3"
      },
      "outputs": [
        {
          "output_type": "stream",
          "name": "stdout",
          "text": [
            "Date: 2023-01-17\n",
            "Time: 14:00:00\n",
            "Date-time: 2023-01-17 14:00:00\n"
          ]
        }
      ],
      "source": [
        "import datetime\n",
        "\n",
        "date_time_str = '01/17/2023 2:00 PM'\n",
        "date_time_obj = datetime.datetime.strptime(date_time_str, '%m/%d/%Y %I:%M %p')\n",
        "\n",
        "print('Date:', date_time_obj.date())\n",
        "print('Time:', date_time_obj.time())\n",
        "print('Date-time:', date_time_obj)"
      ]
    },
    {
      "cell_type": "code",
      "source": [
        "%m/%d/%y %I:%M %p"
      ],
      "metadata": {
        "id": "TuXh9BEC11E_"
      },
      "execution_count": null,
      "outputs": []
    },
    {
      "cell_type": "code",
      "source": [
        "from collections import deque\n",
        " \n",
        "def split_list(input_list, chunk_size):\n",
        "  # Create a deque object from the input list\n",
        "  deque_obj = deque(input_list)\n",
        "  # While the deque object is not empty\n",
        "  while deque_obj:\n",
        "      # Pop chunk_size elements from the left side of the deque object\n",
        "      # and append them to the chunk list\n",
        "      chunk = []\n",
        "      for _ in range(chunk_size):\n",
        "        if deque_obj:\n",
        "          chunk.append(deque_obj.popleft())\n",
        "         \n",
        "      # Yield the chunk\n",
        "      yield chunk\n",
        "input_list = ['1', '2', '3', '4', '5', '6', '7', '8', '9', '10']\n",
        "chunk_size = 3\n",
        "chunks = list(split_list(input_list, chunk_size))\n",
        "print(chunks) # [[1, 2, 3], [4, 5, 6], [7, 8, 9], [10]]"
      ],
      "metadata": {
        "colab": {
          "base_uri": "https://localhost:8080/"
        },
        "id": "j2zKupBk6hti",
        "outputId": "a25897e0-aa8c-461a-98f4-2cf6784cd958"
      },
      "execution_count": 4,
      "outputs": [
        {
          "output_type": "stream",
          "name": "stdout",
          "text": [
            "[['1', '2', '3'], ['4', '5', '6'], ['7', '8', '9'], ['10']]\n"
          ]
        }
      ]
    },
    {
      "cell_type": "code",
      "source": [
        "print(len(chunks))\n"
      ],
      "metadata": {
        "colab": {
          "base_uri": "https://localhost:8080/"
        },
        "id": "MlEnRFy56ll6",
        "outputId": "78a2f523-84d7-4b39-c28e-2f83ed1d0343"
      },
      "execution_count": 12,
      "outputs": [
        {
          "output_type": "stream",
          "name": "stdout",
          "text": [
            "4\n"
          ]
        }
      ]
    },
    {
      "cell_type": "code",
      "source": [
        "import re\n",
        "\n",
        "def batch_name_generator(batch_name):\n",
        "  test_str = batch_name\n",
        "  print(\"The received string is : \" + str(test_str))\n",
        "  res: str = re.sub(r'[0-9]+$',\n",
        "             lambda x: f\"{str(int(x.group())+1).zfill(len(x.group()))}\",\n",
        "             test_str)\n",
        "  return res"
      ],
      "metadata": {
        "id": "9Ug8QUU6ApfZ"
      },
      "execution_count": 23,
      "outputs": []
    },
    {
      "cell_type": "code",
      "source": [
        "print(range(len(chunks)))\n",
        "batch_name = \"Group01Batch01\"\n",
        "\n",
        "batches = range(len(chunks))\n",
        "for batch in batches:\n",
        "  id_list = chunks[batch]\n",
        "  print(id_list)\n",
        "  batch_name = batch_name_generator(batch_name)\n",
        "  print(batch_name)\n",
        "  for id in id_list:\n",
        "    data = {\n",
        "        id: id,\n",
        "        'batch_name': batch_name\n",
        "    }\n",
        "    print(data)"
      ],
      "metadata": {
        "colab": {
          "base_uri": "https://localhost:8080/"
        },
        "id": "kMVcFXYG-ySI",
        "outputId": "1324ae05-9749-4b9e-c4f3-3fea099317be"
      },
      "execution_count": 24,
      "outputs": [
        {
          "output_type": "stream",
          "name": "stdout",
          "text": [
            "range(0, 4)\n",
            "['1', '2', '3']\n",
            "The received string is : Group01Batch01\n",
            "Group01Batch02\n",
            "{'1': '1', 'batch_name': 'Group01Batch02'}\n",
            "{'2': '2', 'batch_name': 'Group01Batch02'}\n",
            "{'3': '3', 'batch_name': 'Group01Batch02'}\n",
            "['4', '5', '6']\n",
            "The received string is : Group01Batch02\n",
            "Group01Batch03\n",
            "{'4': '4', 'batch_name': 'Group01Batch03'}\n",
            "{'5': '5', 'batch_name': 'Group01Batch03'}\n",
            "{'6': '6', 'batch_name': 'Group01Batch03'}\n",
            "['7', '8', '9']\n",
            "The received string is : Group01Batch03\n",
            "Group01Batch04\n",
            "{'7': '7', 'batch_name': 'Group01Batch04'}\n",
            "{'8': '8', 'batch_name': 'Group01Batch04'}\n",
            "{'9': '9', 'batch_name': 'Group01Batch04'}\n",
            "['10']\n",
            "The received string is : Group01Batch04\n",
            "Group01Batch05\n",
            "{'10': '10', 'batch_name': 'Group01Batch05'}\n"
          ]
        }
      ]
    },
    {
      "cell_type": "code",
      "source": [
        "batch_name = \"Group01Batch01\""
      ],
      "metadata": {
        "id": "PL2m3snb6lvp"
      },
      "execution_count": null,
      "outputs": []
    },
    {
      "cell_type": "code",
      "source": [
        "\n",
        "# Python3 code to demonstrate working of\n",
        "# Increment Suffix Number\n",
        "# Using sub() + group() + zfill()\n",
        "import re\n",
        " \n",
        "# initializing string\n",
        "test_str = 'Group01Batch08'\n",
        " \n",
        "# printing original string\n",
        "print(\"The original string is : \" + str(test_str))\n",
        " \n",
        "# fstring used to form string\n",
        "# zfill fills values post increment\n",
        "res = re.sub(r'[0-9]+$',\n",
        "             lambda x: f\"{str(int(x.group())+1).zfill(len(x.group()))}\",\n",
        "             test_str)\n",
        "     \n",
        "# printing result\n",
        "print(\"Incremented numeric String : \" + str(res))"
      ],
      "metadata": {
        "colab": {
          "base_uri": "https://localhost:8080/"
        },
        "id": "sUu_e0C89BVD",
        "outputId": "f39479b7-dfc5-4bcb-814d-61225ff20801"
      },
      "execution_count": 10,
      "outputs": [
        {
          "output_type": "stream",
          "name": "stdout",
          "text": [
            "The original string is : Group01Batch08\n",
            "Incremented numeric String : Group01Batch09\n"
          ]
        }
      ]
    },
    {
      "cell_type": "code",
      "source": [],
      "metadata": {
        "id": "gWOr4EsY9BZH"
      },
      "execution_count": null,
      "outputs": []
    }
  ]
}