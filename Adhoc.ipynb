{
  "nbformat": 4,
  "nbformat_minor": 0,
  "metadata": {
    "colab": {
      "provenance": [],
      "authorship_tag": "ABX9TyN7vNJZz0eqfMvMc7Re7eIW",
      "include_colab_link": true
    },
    "kernelspec": {
      "name": "python3",
      "display_name": "Python 3"
    },
    "language_info": {
      "name": "python"
    }
  },
  "cells": [
    {
      "cell_type": "markdown",
      "metadata": {
        "id": "view-in-github",
        "colab_type": "text"
      },
      "source": [
        "<a href=\"https://colab.research.google.com/github/Martian94/AdvancedDeepLearning/blob/main/Adhoc.ipynb\" target=\"_parent\"><img src=\"https://colab.research.google.com/assets/colab-badge.svg\" alt=\"Open In Colab\"/></a>"
      ]
    },
    {
      "cell_type": "code",
      "execution_count": 17,
      "metadata": {
        "colab": {
          "base_uri": "https://localhost:8080/"
        },
        "id": "pcWz3_ZE1CZL",
        "outputId": "bf88ae85-4388-46b7-e9ff-012d9b8835c3"
      },
      "outputs": [
        {
          "output_type": "stream",
          "name": "stdout",
          "text": [
            "Date: 2023-01-17\n",
            "Time: 14:00:00\n",
            "Date-time: 2023-01-17 14:00:00\n"
          ]
        }
      ],
      "source": [
        "import datetime\n",
        "\n",
        "date_time_str = '01/17/2023 2:00 PM'\n",
        "date_time_obj = datetime.datetime.strptime(date_time_str, '%m/%d/%Y %I:%M %p')\n",
        "\n",
        "print('Date:', date_time_obj.date())\n",
        "print('Time:', date_time_obj.time())\n",
        "print('Date-time:', date_time_obj)"
      ]
    },
    {
      "cell_type": "code",
      "source": [
        "%m/%d/%y %I:%M %p"
      ],
      "metadata": {
        "id": "TuXh9BEC11E_"
      },
      "execution_count": null,
      "outputs": []
    },
    {
      "cell_type": "code",
      "source": [
        "from collections import deque\n",
        " \n",
        "def split_list(input_list, chunk_size):\n",
        "  # Create a deque object from the input list\n",
        "  deque_obj = deque(input_list)\n",
        "  # While the deque object is not empty\n",
        "  while deque_obj:\n",
        "      # Pop chunk_size elements from the left side of the deque object\n",
        "      # and append them to the chunk list\n",
        "      chunk = []\n",
        "      for _ in range(chunk_size):\n",
        "        if deque_obj:\n",
        "          chunk.append(deque_obj.popleft())\n",
        "         \n",
        "      # Yield the chunk\n",
        "      yield chunk\n",
        "input_list = ['1', '2', '3', '4', '5', '6', '7', '8', '9', '10']\n",
        "chunk_size = 3\n",
        "chunks = list(split_list(input_list, chunk_size))\n",
        "print(chunks) # [[1, 2, 3], [4, 5, 6], [7, 8, 9], [10]]"
      ],
      "metadata": {
        "colab": {
          "base_uri": "https://localhost:8080/"
        },
        "id": "j2zKupBk6hti",
        "outputId": "a25897e0-aa8c-461a-98f4-2cf6784cd958"
      },
      "execution_count": 4,
      "outputs": [
        {
          "output_type": "stream",
          "name": "stdout",
          "text": [
            "[['1', '2', '3'], ['4', '5', '6'], ['7', '8', '9'], ['10']]\n"
          ]
        }
      ]
    },
    {
      "cell_type": "code",
      "source": [
        "print(chunks[1])"
      ],
      "metadata": {
        "colab": {
          "base_uri": "https://localhost:8080/"
        },
        "id": "MlEnRFy56ll6",
        "outputId": "6ea29cc8-7e91-4337-a4ff-5fcc43012ac5"
      },
      "execution_count": 5,
      "outputs": [
        {
          "output_type": "stream",
          "name": "stdout",
          "text": [
            "['4', '5', '6']\n"
          ]
        }
      ]
    },
    {
      "cell_type": "code",
      "source": [
        "batch_name = \"Group01Batch01\""
      ],
      "metadata": {
        "id": "PL2m3snb6lvp"
      },
      "execution_count": null,
      "outputs": []
    },
    {
      "cell_type": "code",
      "source": [
        "\n",
        "# Python3 code to demonstrate working of\n",
        "# Increment Suffix Number\n",
        "# Using sub() + group() + zfill()\n",
        "import re\n",
        " \n",
        "# initializing string\n",
        "test_str = 'Group01Batch08'\n",
        " \n",
        "# printing original string\n",
        "print(\"The original string is : \" + str(test_str))\n",
        " \n",
        "# fstring used to form string\n",
        "# zfill fills values post increment\n",
        "res = re.sub(r'[0-9]+$',\n",
        "             lambda x: f\"{str(int(x.group())+1).zfill(len(x.group()))}\",\n",
        "             test_str)\n",
        "     \n",
        "# printing result\n",
        "print(\"Incremented numeric String : \" + str(res))"
      ],
      "metadata": {
        "colab": {
          "base_uri": "https://localhost:8080/"
        },
        "id": "sUu_e0C89BVD",
        "outputId": "f39479b7-dfc5-4bcb-814d-61225ff20801"
      },
      "execution_count": 10,
      "outputs": [
        {
          "output_type": "stream",
          "name": "stdout",
          "text": [
            "The original string is : Group01Batch08\n",
            "Incremented numeric String : Group01Batch09\n"
          ]
        }
      ]
    },
    {
      "cell_type": "code",
      "source": [],
      "metadata": {
        "id": "gWOr4EsY9BZH"
      },
      "execution_count": null,
      "outputs": []
    }
  ]
}